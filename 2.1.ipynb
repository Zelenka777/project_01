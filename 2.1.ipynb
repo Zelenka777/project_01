{
  "nbformat": 4,
  "nbformat_minor": 0,
  "metadata": {
    "colab": {
      "provenance": [],
      "authorship_tag": "ABX9TyOvDP5NBDXl2WYwo+hXv0H7",
      "include_colab_link": true
    },
    "kernelspec": {
      "name": "python3",
      "display_name": "Python 3"
    },
    "language_info": {
      "name": "python"
    }
  },
  "cells": [
    {
      "cell_type": "markdown",
      "metadata": {
        "id": "view-in-github",
        "colab_type": "text"
      },
      "source": [
        "<a href=\"https://colab.research.google.com/github/Zelenka777/project_01/blob/main/2.1.ipynb\" target=\"_parent\"><img src=\"https://colab.research.google.com/assets/colab-badge.svg\" alt=\"Open In Colab\"/></a>"
      ]
    },
    {
      "cell_type": "code",
      "execution_count": 1,
      "metadata": {
        "colab": {
          "base_uri": "https://localhost:8080/"
        },
        "id": "JpU515E11RCE",
        "outputId": "3f44e170-e66a-4719-9e13-e67bfa301776"
      },
      "outputs": [
        {
          "output_type": "stream",
          "name": "stdout",
          "text": [
            "-110\n"
          ]
        }
      ],
      "source": [
        "def minimum(arr):\n",
        "    min_x = arr[0]\n",
        "    for numb in arr:\n",
        "        if numb < min_x:\n",
        "            min_x = numb\n",
        "\n",
        "    return min_x\n",
        "\n",
        "print(minimum([-52, 56, 30, 29, -54, 0, -110]))"
      ]
    },
    {
      "cell_type": "code",
      "source": [
        "def maximum(arr):\n",
        "    max_x = arr[0]\n",
        "    for numb in arr:\n",
        "        if numb > max_x:\n",
        "            max_x = numb\n",
        "\n",
        "    return max_x\n",
        "\n",
        "print(maximum([-52, 56, 30, 29, -54, 0, -110]))"
      ],
      "metadata": {
        "colab": {
          "base_uri": "https://localhost:8080/"
        },
        "id": "PMSJfBau61ke",
        "outputId": "e9e12034-a8c3-486d-bc49-58d5e2e1e1d7"
      },
      "execution_count": 2,
      "outputs": [
        {
          "output_type": "stream",
          "name": "stdout",
          "text": [
            "56\n"
          ]
        }
      ]
    },
    {
      "cell_type": "markdown",
      "source": [
        "Задача 2.1. \n",
        "\n",
        "# Создайте две функции maximum и minimum,\n",
        "# которые получают список целых чисел в качестве входных данных \n",
        "# и возвращают наибольшее и наименьшее число в этом списке соответственно.\n",
        "# Например,\n",
        "# * [4,6,2,1,9,63,-134,566]         -> max = 566, min = -134\n",
        "# * [-52, 56, 30, 29, -54, 0, -110] -> min = -110, max = 56\n",
        "# * [42, 54, 65, 87, 0]             -> min = 0, max = 87\n",
        "# * [5]                             -> min = 5, max = 5\n",
        "# функции sorted, max и min использовать нельзя!\n",
        "\n",
        "def minimum(arr):\n",
        "    pass\n",
        "\n",
        "def maximum(arr):\n",
        "    pass"
      ],
      "metadata": {
        "id": "fbrTI1833UbL"
      }
    }
  ]
}