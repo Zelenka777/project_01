{
  "nbformat": 4,
  "nbformat_minor": 0,
  "metadata": {
    "colab": {
      "provenance": [],
      "authorship_tag": "ABX9TyMnaRk4pdiYEDvmQFwljmxZ",
      "include_colab_link": true
    },
    "kernelspec": {
      "name": "python3",
      "display_name": "Python 3"
    },
    "language_info": {
      "name": "python"
    }
  },
  "cells": [
    {
      "cell_type": "markdown",
      "metadata": {
        "id": "view-in-github",
        "colab_type": "text"
      },
      "source": [
        "<a href=\"https://colab.research.google.com/github/Zelenka777/project_01/blob/main/1.4.ipynb\" target=\"_parent\"><img src=\"https://colab.research.google.com/assets/colab-badge.svg\" alt=\"Open In Colab\"/></a>"
      ]
    },
    {
      "cell_type": "code",
      "execution_count": 1,
      "metadata": {
        "colab": {
          "base_uri": "https://localhost:8080/"
        },
        "id": "2t3vgekt9A6i",
        "outputId": "a6276932-3923-4a53-e3b2-9ade9df70b83"
      },
      "outputs": [
        {
          "output_type": "stream",
          "name": "stdout",
          "text": [
            "Кроссовки тип 3 (Adidas) - 31 шт, стоимость 50747 руб\n",
            "Мячик тип 2 (Adidas) - 14 шт, стоимость 660 руб\n",
            "Кепка тип 1 (Adidas) - 60 шт, стоимость 17124 руб\n",
            "Ремень тип 2 (Nike) - 9 шт, стоимость 1930 руб\n",
            "Футболка тип 1 (Adidas) - 134 шт, стоимость 54264 руб\n",
            "Шапка тип 5 (Puma) - 26 шт, стоимость 4550 руб\n"
          ]
        }
      ],
      "source": [
        "titles = {\n",
        "    'Кроссовки тип 3 (Adidas)': '100000110',\n",
        "    'Мячик тип 2 (Adidas)': '100000146',\n",
        "    'Кепка тип 1 (Adidas)': '100000149',\n",
        "    'Ремень тип 2 (Nike)': '100000194',\n",
        "    'Футболка тип 1 (Adidas)': '100000224',\n",
        "    'Шапка тип 5 (Puma)': '100000280',\n",
        "  }\n",
        "\n",
        "store = { \n",
        "    '100000110': [\n",
        "        {'quantity': 31, 'price': 1637}\n",
        "        ], \n",
        "    '100000146': [ \n",
        "        {'quantity': 4, 'price': 45}, \n",
        "        {'quantity': 10, 'price': 48}\n",
        "         ], \n",
        "    '100000149': [ \n",
        "        {'quantity': 28, 'price': 279}, \n",
        "        {'quantity': 32, 'price': 291}\n",
        "        ], \n",
        "    '100000194': [\n",
        "        {'quantity': 8, 'price': 220}, \n",
        "        {'quantity': 1, 'price': 170}\n",
        "        ], \n",
        "    '100000224': [\n",
        "        {'quantity': 61, 'price': 438}, \n",
        "        {'quantity': 23, 'price': 302}, \n",
        "        {'quantity': 50, 'price': 412}\n",
        "        ], \n",
        "    '100000280': [\n",
        "        {'quantity': 26, 'price': 175}, \n",
        "        ] \n",
        "    }\n",
        "\n",
        "\n",
        "for title in titles:\n",
        "    quantity = 0\n",
        "    title_id = titles[title]\n",
        "    sum_price = 0\n",
        "    for item in store[title_id]:\n",
        "        quantity += item['quantity']\n",
        "        sum_price += item['quantity'] * item['price']\n",
        "    print(f\"{title} - {quantity} шт, стоимость {sum_price} руб\")\n",
        "\n"
      ]
    },
    {
      "cell_type": "markdown",
      "source": [
        "# Задача 1.4.\n",
        "\n",
        "# Есть словарь кодов товаров titles\n",
        "\n",
        "titles = {\n",
        "    'Кроссовки тип 3 (Adidas)': '100000110',\n",
        "    'Мячик тип 2 (Adidas)': '100000146',\n",
        "    'Кепка тип 1 (Adidas)': '100000149',\n",
        "    'Ремень тип 2 (Nike)': '100000194',\n",
        "    'Футболка тип 1 (Adidas)': '100000224',\n",
        "    'Шапка тип 5 (Puma)': '100000280',\n",
        "}\n",
        "\n",
        "# Товары находятся на складе и сохранены в виде словаря списков словарей,\n",
        "# которые отражают количество товаров в магазине по каждому коду.\n",
        "\n",
        "store = {\n",
        "    '100000110': [{'quantity': 31, 'price': 1637}],\n",
        "    '100000146': [ {'quantity': 4, 'price': 45}, {'quantity': 10, 'price': 48}],\n",
        "    '100000149': [ {'quantity': 28, 'price': 279}, {'quantity': 32, 'price': 291}],\n",
        "    '100000194': [{'quantity': 8, 'price': 220}, {'quantity': 1, 'price': 170}],\n",
        "    '100000224': [{'quantity': 61, 'price': 438}, {'quantity': 23, 'price': 302},  {'quantity': 50, 'price': 412}],\n",
        "    '100000280': [{'quantity': 26, 'price': 175}, ]\n",
        "}\n",
        "\n",
        "# Рассчитайте на какую сумму лежит каждого товара на складе.\n",
        "#\n",
        "# Вывести суммарную стоимость каждого товара в магазине в формате:\n",
        "# \"<товар> - <кол-во> шт, стоимость <общая стоимость> руб\"\n",
        "\n",
        "# Пример: \"Кроссовки тип 3 (Adidas) - 31 шт, стоимость 50747 руб\""
      ],
      "metadata": {
        "id": "TaVoWyPf9B5o"
      }
    }
  ]
}