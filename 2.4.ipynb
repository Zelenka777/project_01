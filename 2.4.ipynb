{
  "nbformat": 4,
  "nbformat_minor": 0,
  "metadata": {
    "colab": {
      "provenance": [],
      "authorship_tag": "ABX9TyPJyNCx8wRK1/KUUWNzpI6F",
      "include_colab_link": true
    },
    "kernelspec": {
      "name": "python3",
      "display_name": "Python 3"
    },
    "language_info": {
      "name": "python"
    }
  },
  "cells": [
    {
      "cell_type": "markdown",
      "metadata": {
        "id": "view-in-github",
        "colab_type": "text"
      },
      "source": [
        "<a href=\"https://colab.research.google.com/github/Zelenka777/project_01/blob/main/2.4.ipynb\" target=\"_parent\"><img src=\"https://colab.research.google.com/assets/colab-badge.svg\" alt=\"Open In Colab\"/></a>"
      ]
    },
    {
      "cell_type": "code",
      "execution_count": 3,
      "metadata": {
        "colab": {
          "base_uri": "https://localhost:8080/"
        },
        "id": "zotOQMCgGXof",
        "outputId": "4242bdb3-c03f-4652-a92f-3fe8958982e1"
      },
      "outputs": [
        {
          "output_type": "stream",
          "name": "stdout",
          "text": [
            "Hi Hello\n"
          ]
        }
      ],
      "source": [
        "# пункт А\n",
        "def remove_exclamation_marks(s: str) -> str:\n",
        "  \n",
        "    return s.replace('!', '')\n",
        "\n",
        "\n",
        "print(remove_exclamation_marks(\"Hi! Hello!\"))\n"
      ]
    },
    {
      "cell_type": "code",
      "source": [
        "# пункт В\n",
        "\n",
        "def remove_last_em(s):\n",
        "   \n",
        "    return s.rstrip('!')\n",
        "\n",
        "print(remove_last_em(\"Hi!\"))"
      ],
      "metadata": {
        "colab": {
          "base_uri": "https://localhost:8080/"
        },
        "id": "kqWkpaydOUa9",
        "outputId": "48483b79-b81d-4a58-f96d-3367e4f65377"
      },
      "execution_count": 7,
      "outputs": [
        {
          "output_type": "stream",
          "name": "stdout",
          "text": [
            "Hi\n"
          ]
        }
      ]
    },
    {
      "cell_type": "markdown",
      "source": [
        "# Задача 2.4.\n",
        "\n",
        "# Пункт A.\n",
        "# Напишите функцию, которая удаляет все восклицательные знаки из заданной строк.\n",
        "# Например,\n",
        "# foo(\"Hi! Hello!\") -> \"Hi Hello\"\n",
        "# foo(\"\") -> \"\"\n",
        "# foo(\"Oh, no!!!\") -> \"Oh, no\"\n",
        "\n",
        "def remove_exclamation_marks(s):\n",
        "    pass\n",
        "\n",
        "\n",
        "# Пункт B.\n",
        "# Удалите восклицательный знак из конца строки. \n",
        "# remove(\"Hi!\") == \"Hi\"\n",
        "# remove(\"Hi!!!\") == \"Hi!!\"\n",
        "# remove(\"!Hi\") == \"!Hi\"\n",
        "\n",
        "def remove_last_em(s):\n",
        "    pass"
      ],
      "metadata": {
        "id": "BQRHCw0eNQ9W"
      }
    }
  ]
}