{
  "nbformat": 4,
  "nbformat_minor": 0,
  "metadata": {
    "colab": {
      "provenance": [],
      "authorship_tag": "ABX9TyNZfd6RFDsaGNgfKNd0yLq+",
      "include_colab_link": true
    },
    "kernelspec": {
      "name": "python3",
      "display_name": "Python 3"
    },
    "language_info": {
      "name": "python"
    }
  },
  "cells": [
    {
      "cell_type": "markdown",
      "metadata": {
        "id": "view-in-github",
        "colab_type": "text"
      },
      "source": [
        "<a href=\"https://colab.research.google.com/github/Zelenka777/project_01/blob/main/2.2.ipynb\" target=\"_parent\"><img src=\"https://colab.research.google.com/assets/colab-badge.svg\" alt=\"Open In Colab\"/></a>"
      ]
    },
    {
      "cell_type": "code",
      "execution_count": 12,
      "metadata": {
        "colab": {
          "base_uri": "https://localhost:8080/"
        },
        "id": "QeAUFuf38LXh",
        "outputId": "3b005048-e74d-4e16-9200-afa2400c14e0"
      },
      "outputs": [
        {
          "output_type": "stream",
          "name": "stdout",
          "text": [
            "Введите номер месяца: 2\n",
            "месяц 2 (февраль) является частью первого квартала.\n"
          ]
        }
      ],
      "source": [
        "import math\n",
        "\n",
        "months = {\n",
        "    1: 'январь', \n",
        "    2: 'февраль', \n",
        "    3: 'март', \n",
        "    4: 'апрель', \n",
        "    5: 'май', \n",
        "    6: 'июнь', \n",
        "    7: 'июль', \n",
        "    8: 'август',      \n",
        "    9: 'сентябрь', \n",
        "    10: 'октябрь', \n",
        "    11: 'ноябрь', \n",
        "    12: 'декабрь'\n",
        "          }\n",
        "quarter_name = {1: 'первого', 2: 'второго', 3: 'третьего', 4: 'четвёртого'}\n",
        "\n",
        "def quarter_month(month_number: int)-> str:\n",
        "    \n",
        "    return (f'месяц {month_number} ({months[month_number]})'f' является частью {quarter_name[math.ceil(month_number / 3)]} квартала.')\n",
        "\n",
        "\n",
        "print(quarter_month(int(input('Введите номер месяца: '))))"
      ]
    },
    {
      "cell_type": "markdown",
      "source": [
        "# Задача 2.2. \n",
        "\n",
        "# Напишите функцию, которая возвращает номер квартал по номеру месяца\n",
        "# Например: \n",
        "# месяц 2 (февраль) является частью первого квартала; \n",
        "# месяц 6 (июнь) является частью второго квартала; \n",
        "# месяц 11 (ноябрь) является частью четвертого квартала.\n",
        "\n",
        "def quarter_of(month):\n",
        "    pass"
      ],
      "metadata": {
        "id": "CFI6kuFo8MMP"
      }
    }
  ]
}