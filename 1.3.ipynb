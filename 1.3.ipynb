{
  "nbformat": 4,
  "nbformat_minor": 0,
  "metadata": {
    "colab": {
      "provenance": [],
      "authorship_tag": "ABX9TyNvDvmN/6i7VUKzVhJihpNu"
    },
    "kernelspec": {
      "name": "python3",
      "display_name": "Python 3"
    },
    "language_info": {
      "name": "python"
    }
  },
  "cells": [
    {
      "cell_type": "code",
      "execution_count": 13,
      "metadata": {
        "colab": {
          "base_uri": "https://localhost:8080/"
        },
        "id": "W_0Js_airWhC",
        "outputId": "8c199a4e-1d3c-4a92-bf0b-37db2f51f384"
      },
      "outputs": [
        {
          "output_type": "stream",
          "name": "stdout",
          "text": [
            "54\n",
            "Это не является месяцем\n"
          ]
        }
      ],
      "source": [
        "a= input().lower()\n",
        "\n",
        "if a == '1' or a == '3' or a == '5' or a == '7'  or a == '8' or a == '10' or a == '12':\n",
        "  print(31)\n",
        "elif a == '2':\n",
        "  print('28 или 29')\n",
        "elif a == '4' or a =='6' or a == '9' or a == '11':\n",
        "  print(30)\n",
        "else:\n",
        "  print('Это не является месяцем')"
      ]
    },
    {
      "cell_type": "markdown",
      "source": [
        "# Задача 1.3.\n",
        "\n",
        "# Напишите скрипт, который принимает от пользователя номер месяца, \n",
        "# а возвращает количество дней в нем.\n",
        "# Результат проверки вывести на консоль\n",
        "# Допущение: в феврале 28 дней\n",
        "# Если номер месяца некорректен - сообщить об этом\n",
        "\n",
        "# Например,\n",
        "    # Введите номер месяца: 3\n",
        "    # Вы ввели март. 31 дней\n",
        "\n",
        "    # Введите номер месяца: 2\n",
        "    # Вы ввели февраль. 28 дней\n",
        "\n",
        "    # Введите номер месяца: 15\n",
        "    # Такого месяца нет!"
      ],
      "metadata": {
        "id": "VprxyqsmrXPk"
      }
    }
  ]
}