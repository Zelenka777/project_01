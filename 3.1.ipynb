{
  "nbformat": 4,
  "nbformat_minor": 0,
  "metadata": {
    "colab": {
      "provenance": [],
      "authorship_tag": "ABX9TyPFbpKKNMHfwh6UcKWzhN0P",
      "include_colab_link": true
    },
    "kernelspec": {
      "name": "python3",
      "display_name": "Python 3"
    },
    "language_info": {
      "name": "python"
    }
  },
  "cells": [
    {
      "cell_type": "markdown",
      "metadata": {
        "id": "view-in-github",
        "colab_type": "text"
      },
      "source": [
        "<a href=\"https://colab.research.google.com/github/Zelenka777/project_01/blob/main/3.1.ipynb\" target=\"_parent\"><img src=\"https://colab.research.google.com/assets/colab-badge.svg\" alt=\"Open In Colab\"/></a>"
      ]
    },
    {
      "cell_type": "code",
      "execution_count": 13,
      "metadata": {
        "colab": {
          "base_uri": "https://localhost:8080/"
        },
        "id": "GOi-99qvPGVN",
        "outputId": "49abb088-bdb8-43c7-db2d-d6840ccaa449"
      },
      "outputs": [
        {
          "output_type": "stream",
          "name": "stdout",
          "text": [
            "1 1 1 1 1 1 1 1 1 1\n",
            "1 1 1 1 1 1 1 1 1 1\n",
            "1 1 1 1 1 1 1 1 1 1\n",
            "1 1 1 1 1 1 1 1 1 1\n",
            "1 1 1 1 1 1 1 1 1 1\n",
            "1 1 1 1 1 1 1 1 1 1\n",
            "1 1 1 1 1 1 1 1 1 1\n",
            "1 1 1 1 1 1 1 1 1 1\n",
            "1 1 1 1 1 1 1 1 1 1\n",
            "1 1 1 1 1 1 1 1 1 1\n",
            "\n",
            "Размер матрицы:\n",
            "кол-во строк - 10\n",
            "кол-во колонок - 10\n",
            "\n",
            "1 1 1 1 1 1 1 1 1 1\n",
            "1 1 1 5 1 1 1 1 1 1\n",
            "1 1 1 1 1 1 1 1 1 1\n",
            "1 1 1 1 1 1 1 1 1 1\n",
            "1 1 1 1 1 1 1 1 1 1\n",
            "1 1 1 1 1 1 1 1 1 1\n",
            "1 1 1 1 1 1 1 1 1 1\n",
            "1 1 1 1 1 1 1 1 1 1\n",
            "1 1 1 1 1 1 1 1 1 1\n",
            "1 1 1 1 1 1 1 1 1 1\n",
            "\n",
            "6 6 6 6 6 6 6 6 6 6\n",
            "6 6 6 6 6 6 6 6 6 6\n",
            "6 6 6 6 6 6 6 6 6 6\n",
            "6 6 6 6 6 6 6 6 6 6\n",
            "6 6 6 6 6 6 6 6 6 6\n",
            "6 6 6 6 6 6 6 6 6 6\n",
            "6 6 6 6 6 6 6 6 6 6\n",
            "6 6 6 6 6 6 6 6 6 6\n",
            "6 6 6 6 6 6 6 6 6 6\n",
            "6 6 6 6 6 6 6 6 6 6\n",
            "\n",
            "3 1 8 4 6 0 9 8 3 0\n",
            "7 4 9 2 1 6 1 5 1 5\n",
            "1 9 4 5 3 3 9 9 2 1\n",
            "1 6 4 0 8 7 5 6 4 8\n",
            "1 2 5 3 0 5 3 1 8 7\n",
            "7 5 4 9 5 8 3 8 7 2\n",
            "0 0 7 6 9 5 2 6 7 1\n",
            "9 9 2 5 2 5 5 3 6 1\n",
            "5 4 9 4 0 8 7 2 0 7\n",
            "8 2 2 1 2 1 3 5 4 5\n",
            "\n"
          ]
        }
      ],
      "source": [
        "import random \n",
        "class Matrix:\n",
        "   \n",
        "    def __init__(self, *, rows: int = 3, colomns: int = 5, value: int | None = None):\n",
        "        \n",
        "        self.rows = rows\n",
        "        self.colomns = colomns\n",
        "        self.value = value\n",
        "        self.data = [[value] * self.colomns for i in range(self.rows)]\n",
        "\n",
        "    def __str__(self) -> str:\n",
        "        result = ''\n",
        "        for row in self.data:\n",
        "            result += ' '.join([str(elem) for elem in row]) + '\\n'\n",
        "        return result\n",
        "\n",
        "    def change_all_values(self, new_value: int):\n",
        "        \n",
        "        self.data = [[new_value] * self.colomns for i in range(self.rows)]\n",
        "\n",
        "    def change_element(self, *, colomn: int, row: int, value: int) -> None:\n",
        "        \n",
        "        self.data[row][colomn] = value\n",
        "\n",
        "    def get_measure(self) -> tuple:\n",
        "        \n",
        "        return self.rows, self.colomns\n",
        "\n",
        "    def rundomize_values(self,):\n",
        "        self.data = [[random.randint(0,9) for _ in range(self.colomns)] for i in range(self.rows)]\n",
        "\n",
        "if __name__ == '__main__':\n",
        "\n",
        "    matrix = Matrix(rows=10, colomns=10, value=1)\n",
        "    print(matrix)\n",
        "\n",
        "    measure = matrix.get_measure()\n",
        "    print(f'Размер матрицы:\\nкол-во строк - {measure[0]}\\nкол-во колонок - {measure[1]}\\n')\n",
        "\n",
        "    matrix.change_element(row=1, colomn=3, value=5)\n",
        "    print(matrix)\n",
        "\n",
        "   \n",
        "    matrix.change_all_values(6)\n",
        "    print(matrix)\n",
        "\n",
        "    matrix.rundomize_values()\n",
        "    print(matrix)"
      ]
    },
    {
      "cell_type": "markdown",
      "source": [
        "# Задача 3.1.\n",
        "# Создайте класс матрицы (или таблицы).\n",
        "# Требования к классу:\n",
        "#   - каждая колонка является числом от 1 до n (n любое число, которые вы поставите!)\n",
        "#   - в каждой ячейке содержится либо число, либо None\n",
        "#   - доступы следующие методы матрицы:\n",
        "#       * принимать новые значения, \n",
        "#       * заменять существующие значения, \n",
        "#       * выводить число строк и колонок.\n",
        "\n",
        "# Пример матрицы 10 на 10 из единиц:\n",
        "# [[1, 1, 1, 1, 1, 1, 1, 1, 1, 1],\n",
        "#  [1, 1, 1, 1, 1, 1, 1, 1, 1, 1],\n",
        "#  [1, 1, 1, 1, 1, 1, 1, 1, 1, 1],\n",
        "#  [1, 1, 1, 1, 1, 1, 1, 1, 1, 1],\n",
        "#  [1, 1, 1, 1, 1, 1, 1, 1, 1, 1],\n",
        "#  [1, 1, 1, 1, 1, 1, 1, 1, 1, 1],\n",
        "#  [1, 1, 1, 1, 1, 1, 1, 1, 1, 1],\n",
        "#  [1, 1, 1, 1, 1, 1, 1, 1, 1, 1],\n",
        "#  [1, 1, 1, 1, 1, 1, 1, 1, 1, 1],\n",
        "#  [1, 1, 1, 1, 1, 1, 1, 1, 1, 1]]\n",
        "\n",
        "# Примечание! \n",
        "#   - новый класс не запрещено строить на базе существующих типов данных: списков, словарей и тд.\n",
        "#   - отображать в таблице/матрице название колонки не обязательно!\n",
        "#   - использовать готовые классы numpy.array() и pandas.DataFrame() запрещено!\n",
        "#   - проявите фантазию :)\n"
      ],
      "metadata": {
        "id": "e4pjRMNyRlCj"
      }
    }
  ]
}