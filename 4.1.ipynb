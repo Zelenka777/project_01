{
  "nbformat": 4,
  "nbformat_minor": 0,
  "metadata": {
    "colab": {
      "provenance": [],
      "authorship_tag": "ABX9TyMPHbUroax5hZiwdkY5a0ab",
      "include_colab_link": true
    },
    "kernelspec": {
      "name": "python3",
      "display_name": "Python 3"
    },
    "language_info": {
      "name": "python"
    }
  },
  "cells": [
    {
      "cell_type": "markdown",
      "metadata": {
        "id": "view-in-github",
        "colab_type": "text"
      },
      "source": [
        "<a href=\"https://colab.research.google.com/github/Zelenka777/project_01/blob/main/4.1.ipynb\" target=\"_parent\"><img src=\"https://colab.research.google.com/assets/colab-badge.svg\" alt=\"Open In Colab\"/></a>"
      ]
    },
    {
      "cell_type": "code",
      "execution_count": null,
      "metadata": {
        "colab": {
          "base_uri": "https://localhost:8080/"
        },
        "id": "v8sNu6GecPKd",
        "outputId": "b521a2cd-fa25-4f9d-9dd3-2cb2f8029065"
      },
      "outputs": [
        {
          "output_type": "stream",
          "name": "stdout",
          "text": [
            "Ошибка: таблица с таким названием существует\n"
          ]
        }
      ],
      "source": [
        "import sqlite3\n",
        "\n",
        "PUTH = 'teatchers.db'\n",
        "student_list = [(201, 'Иван', 1),\n",
        "                (202, 'Петр', 2),\n",
        "                (203, 'Анастасия', 3),\n",
        "                (204, 'Игорь', 4),\n",
        "                ]\n",
        "\n",
        "try:\n",
        "    connection_ = sqlite3.connect(PUTH)\n",
        "    cursor_ = connection_.cursor()\n",
        "    cursor_.execute(\n",
        "        '''CREATE TABLE IF NOT EXISTS Students (\n",
        "        Student_Id INTEGER,\n",
        "        Student_Name TEXT,\n",
        "        School_Id INTEGER PRIMARY KEY\n",
        "        )'''\n",
        "    )\n",
        "\n",
        "    for item in student_list:\n",
        "        cursor_.execute('INSERT INTO  Students  (Student_Id, Student_Name, School_Id) VALUES (?, ?, ?)',\n",
        "                        (item[0], item[1], item[2]))\n",
        "\n",
        "        connection_.commit()\n",
        "\n",
        "except sqlite3.Error as e:\n",
        "    connection_.rollback()\n",
        "    print(\"Ошибка: таблица с таким названием существует\")\n",
        "finally:\n",
        "    connection_.close()\n",
        "\n",
        "def student_info(student_id: int, path) -> tuple:\n",
        "   \n",
        "    try:\n",
        "        connection_ = sqlite3.connect(PUTH)\n",
        "        cursor_ = connection_.cursor()\n",
        "        query = '''\n",
        "            SELECT Students.Student_Id, Students.Student_Name, School.School_Id, School.School_Name\n",
        "            FROM Students\n",
        "            INNER JOIN School ON Students.school_id = School.school_id\n",
        "            WHERE Students.Student_Id = ?;\n",
        "            '''\n",
        "        cursor_.execute(query, (student_id,))\n",
        "        data = cursor_.fetchone()\n",
        "        if data:\n",
        "            return data\n",
        "        else:\n",
        "            return ('Отсутствует',) * 4\n",
        "    except sqlite3.Error as e:\n",
        "        print(\"Ошибка выполнения запроса:\", e)\n",
        "    finally:\n",
        "        connection_.close()\n",
        "\n",
        "\n",
        "if __name__ == '__main__':\n",
        "    student_data = student_info(int(input(\"Введите ID студента: \")), PUTH)\n",
        "    print(\"ID студента: {}\\nИмя студента: {}\\nID школы: {}\\nНазвание школы: {}\")\n",
        "    format(student_data)"
      ]
    },
    {
      "cell_type": "markdown",
      "source": [
        "# Задача 4.1.\n",
        "# Домашнее задание на SQL\n",
        "\n",
        "# В базе данных teacher создайте таблицу Students\n",
        "\n",
        "# Структура таблицы: Student_Id - Integer, Student_Name - Text, School_Id - Integer (Primary key)\n",
        "\n",
        "# Наполните таблицу следующими данными:\n",
        "\n",
        "# 201, Иван, 1\n",
        "# 202, Петр, 2\n",
        "# 203, Анастасия, 3\n",
        "# 204, Игорь, 4\n",
        "\n",
        "# Напишите программу, с помощью которой по ID студента можно получать информацию о школе и студенте.\n",
        "\n",
        "# Формат вывода:\n",
        "\n",
        "# ID Студента:\n",
        "# Имя студента:\n",
        "# ID школы:\n",
        "# Название школы:"
      ],
      "metadata": {
        "id": "5PwdCcXWc5oj"
      }
    }
  ]
}